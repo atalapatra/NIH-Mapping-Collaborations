{
 "cells": [
  {
   "cell_type": "code",
   "execution_count": 1,
   "metadata": {
    "collapsed": true
   },
   "outputs": [],
   "source": [
    "import requests, json, csv\n",
    "import pandas as pd"
   ]
  },
  {
   "cell_type": "code",
   "execution_count": 3,
   "metadata": {
    "collapsed": false
   },
   "outputs": [],
   "source": [
    "all_edge = pd.read_csv(\"C:/Users/Marissa/OneDrive/Group Folder/2017-03-31 Network Analysis/Wei/data/all_edges.csv\", header=0)"
   ]
  },
  {
   "cell_type": "code",
   "execution_count": 10,
   "metadata": {
    "collapsed": true
   },
   "outputs": [],
   "source": [
    "# Store the two arguments necessary for the header in a dictionary\n",
    "SCOP_KEY = '4f2cb59670145272ae8b7559ed9c179e'\n",
    "SCOP_HEADERS = {'Accept': 'application/json',\n",
    "                 'X-ELS-APIKey' : SCOP_KEY}"
   ]
  },
  {
   "cell_type": "code",
   "execution_count": 12,
   "metadata": {
    "collapsed": false
   },
   "outputs": [],
   "source": [
    "URL = 'http://api.elsevier.com/content/abstract/pubmed_id/'\n",
    "params = {'view' : 'FULL', 'field' : 'subject-area'}"
   ]
  },
  {
   "cell_type": "code",
   "execution_count": 6,
   "metadata": {
    "collapsed": false
   },
   "outputs": [
    {
     "name": "stdout",
     "output_type": "stream",
     "text": [
      "['16303563', '17417630', '18431499', '23141634', '22767578', '25352596', '24493588', '18824564', '18316413']\n"
     ]
    },
    {
     "data": {
      "text/plain": [
       "57489"
      ]
     },
     "execution_count": 6,
     "metadata": {},
     "output_type": "execute_result"
    }
   ],
   "source": [
    "uniques = all_edge.PMID.unique()\n",
    "#uniques = ['11029465', '11062246','11110788','11148051']\n",
    "PMID_LIST = []\n",
    "for u in uniques:\n",
    "    p = str(u).replace('.0','')  \n",
    "    PMID_LIST.append(p)\n",
    "\n",
    "print(PMID_LIST[1:10])\n",
    "len(PMID_LIST)"
   ]
  },
  {
   "cell_type": "code",
   "execution_count": 7,
   "metadata": {
    "collapsed": false
   },
   "outputs": [
    {
     "data": {
      "text/plain": [
       "5"
      ]
     },
     "execution_count": 7,
     "metadata": {},
     "output_type": "execute_result"
    }
   ],
   "source": [
    "## Revised List to account for PMIDs already pulled 4/3\n",
    "PMID_LIST = ['11029465', '11062246','11110788','11148051', '27644592'] #test\n",
    "\n",
    "# UPDATED 4/5\n",
    "#idx_start = PMID_LIST.index('20564465') \n",
    "#print(idx_start)\n",
    "#PMID_LIST = PMID_LIST[11034:]\n",
    "\n",
    "len(PMID_LIST)"
   ]
  },
  {
   "cell_type": "code",
   "execution_count": 13,
   "metadata": {
    "collapsed": false
   },
   "outputs": [
    {
     "name": "stdout",
     "output_type": "stream",
     "text": [
      "11029465 {'service-error': {'status': {'statusText': 'Client IP Address: 50.190.43.168 does not resolve to an account', 'statusCode': 'AUTHENTICATION_ERROR'}}}\n",
      "11062246 {'service-error': {'status': {'statusText': 'Client IP Address: 50.190.43.168 does not resolve to an account', 'statusCode': 'AUTHENTICATION_ERROR'}}}\n",
      "11110788 {'service-error': {'status': {'statusText': 'Client IP Address: 50.190.43.168 does not resolve to an account', 'statusCode': 'AUTHENTICATION_ERROR'}}}\n",
      "11148051 {'service-error': {'status': {'statusText': 'Client IP Address: 50.190.43.168 does not resolve to an account', 'statusCode': 'AUTHENTICATION_ERROR'}}}\n",
      "27644592 {'service-error': {'status': {'statusText': 'Client IP Address: 50.190.43.168 does not resolve to an account', 'statusCode': 'AUTHENTICATION_ERROR'}}}\n"
     ]
    }
   ],
   "source": [
    "result = []\n",
    "error = []\n",
    "for p in PMID_LIST:\n",
    "    urlstring = URL + p\n",
    "    r = requests.get(urlstring, headers=SCOP_HEADERS, params=params)\n",
    "    r = (json.loads(r.text))\n",
    "    result_text_subj = str()\n",
    "    try:\n",
    "        result_text_subj = r['abstracts-retrieval-response']['subject-areas']['subject-area']\n",
    "    except:\n",
    "        result_text_subj = 'xxx'\n",
    "        error.append({'pmid': p, 'error_message' : r})\n",
    "        print(p, r)\n",
    "        \n",
    "    abbrev_list = []\n",
    "    for i in range(0,(len(result_text_subj))):\n",
    "        if result_text_subj == 'xxx':\n",
    "            pass\n",
    "        else:            \n",
    "            abbrev = result_text_subj[i]['@abbrev']\n",
    "            #print(abbrev)\n",
    "            if abbrev in abbrev_list:\n",
    "                pass\n",
    "            else:\n",
    "                abbrev_list.append(abbrev)\n",
    "            result.append({'pmid': p, 'subject_abbrev' : abbrev_list})    \n",
    "    \n",
    "#result_text_subj[i]['$']\n",
    "#result_text_subj[i]['@code'] "
   ]
  },
  {
   "cell_type": "code",
   "execution_count": 44,
   "metadata": {
    "collapsed": false
   },
   "outputs": [
    {
     "data": {
      "text/plain": [
       "[{'pmid': '26715945', 'subject_abbrev': ['BIOC']}]"
      ]
     },
     "execution_count": 44,
     "metadata": {},
     "output_type": "execute_result"
    }
   ],
   "source": [
    "result"
   ]
  },
  {
   "cell_type": "code",
   "execution_count": 27,
   "metadata": {
    "collapsed": false
   },
   "outputs": [],
   "source": [
    "with open('pmid_discipline.csv', 'w', newline='') as csvfile1:\n",
    "    fieldnames = ['pmid', 'subject_abbrev']\n",
    "    writer = csv.DictWriter(csvfile1, fieldnames=fieldnames)\n",
    "    writer.writerows(result)"
   ]
  },
  {
   "cell_type": "code",
   "execution_count": 28,
   "metadata": {
    "collapsed": false
   },
   "outputs": [],
   "source": [
    "with open('pmid_discipline_errors.csv', 'w', newline='') as csvfile2:\n",
    "    fieldnames2 = ['pmid', 'error_message']\n",
    "    writer = csv.DictWriter(csvfile2, fieldnames=fieldnames2)\n",
    "    writer.writerows(error)"
   ]
  },
  {
   "cell_type": "code",
   "execution_count": 29,
   "metadata": {
    "collapsed": false
   },
   "outputs": [
    {
     "data": {
      "text/plain": [
       "875"
      ]
     },
     "execution_count": 29,
     "metadata": {},
     "output_type": "execute_result"
    }
   ],
   "source": [
    "len(result)"
   ]
  },
  {
   "cell_type": "code",
   "execution_count": 30,
   "metadata": {
    "collapsed": false
   },
   "outputs": [
    {
     "data": {
      "text/plain": [
       "117"
      ]
     },
     "execution_count": 30,
     "metadata": {},
     "output_type": "execute_result"
    }
   ],
   "source": [
    "len(error)"
   ]
  },
  {
   "cell_type": "code",
   "execution_count": 31,
   "metadata": {
    "collapsed": false
   },
   "outputs": [
    {
     "data": {
      "text/plain": [
       "{'pmid': '23667230', 'subject_abbrev': ['IMMU', 'BIOC']}"
      ]
     },
     "execution_count": 31,
     "metadata": {},
     "output_type": "execute_result"
    }
   ],
   "source": [
    "result[-1]"
   ]
  }
 ],
 "metadata": {
  "anaconda-cloud": {},
  "kernelspec": {
   "display_name": "Python [conda root]",
   "language": "python",
   "name": "conda-root-py"
  },
  "language_info": {
   "codemirror_mode": {
    "name": "ipython",
    "version": 3
   },
   "file_extension": ".py",
   "mimetype": "text/x-python",
   "name": "python",
   "nbconvert_exporter": "python",
   "pygments_lexer": "ipython3",
   "version": "3.5.2"
  }
 },
 "nbformat": 4,
 "nbformat_minor": 1
}
