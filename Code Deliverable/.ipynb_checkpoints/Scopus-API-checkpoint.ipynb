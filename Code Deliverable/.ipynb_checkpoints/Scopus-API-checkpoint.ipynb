{
 "cells": [
  {
   "cell_type": "code",
   "execution_count": 1,
   "metadata": {
    "collapsed": true
   },
   "outputs": [],
   "source": [
    "import requests, json, csv\n",
    "import pandas as pd"
   ]
  },
  {
   "cell_type": "code",
   "execution_count": 2,
   "metadata": {
    "collapsed": false
   },
   "outputs": [],
   "source": [
    "all_edge = pd.read_csv(\"/Users/euhwang/Desktop/Scopus/all_edges.csv\", header=0)"
   ]
  },
  {
   "cell_type": "code",
   "execution_count": 3,
   "metadata": {
    "collapsed": true
   },
   "outputs": [],
   "source": [
    "# Store the two arguments necessary for the header in a dictionary\n",
    "SCOP_KEY = 'cee2f4b059ee34fbb7291f629f635e23' \n",
    "SCOP_HEADERS = {'Accept': 'application/json',\n",
    "                 'X-ELS-APIKey' : SCOP_KEY}"
   ]
  },
  {
   "cell_type": "code",
   "execution_count": 4,
   "metadata": {
    "collapsed": false
   },
   "outputs": [],
   "source": [
    "URL = 'http://api.elsevier.com/content/abstract/pubmed_id/'\n",
    "params = {'view' : 'FULL', 'field' : 'subject-area'}"
   ]
  },
  {
   "cell_type": "code",
   "execution_count": 5,
   "metadata": {
    "collapsed": false
   },
   "outputs": [
    {
     "name": "stdout",
     "output_type": "stream",
     "text": [
      "['16303563', '17417630', '18431499', '23141634', '22767578', '25352596', '24493588', '18824564', '18316413']\n"
     ]
    },
    {
     "data": {
      "text/plain": [
       "57489"
      ]
     },
     "execution_count": 5,
     "metadata": {},
     "output_type": "execute_result"
    }
   ],
   "source": [
    "uniques = all_edge.PMID.unique()\n",
    "#uniques = ['11029465', '11062246','11110788','11148051']\n",
    "PMID_LIST = []\n",
    "for u in uniques:\n",
    "    p = str(u).replace('.0','')  \n",
    "    PMID_LIST.append(p)\n",
    "\n",
    "print(PMID_LIST[1:10])\n",
    "len(PMID_LIST)"
   ]
  },
  {
   "cell_type": "code",
   "execution_count": null,
   "metadata": {
    "collapsed": false
   },
   "outputs": [],
   "source": [
    "#test \n",
    "#PMID_LIST = ['11029465', '11062246','11110788','11148051', '27644592']\n",
    "PMID_LIST = PMID_LIST[1:9198]\n",
    "#PMID_LIST = PMID_LIST[9199:19199]\n",
    "#PMID_LIST = PMID_LIST[19200:20200]\n",
    "#PMID_LIST = PMID_LIST[20201:30201]\n",
    "#PMID_LIST = PMID_LIST[30202:40202]\n",
    "#PMID_LIST = PMID_LIST[40203:50203]\n",
    "#PMID_LIST[50203:]"
   ]
  },
  {
   "cell_type": "code",
   "execution_count": null,
   "metadata": {
    "collapsed": false
   },
   "outputs": [],
   "source": [
    "result = []\n",
    "error = []\n",
    "for p in PMID_LIST:\n",
    "    urlstring = URL + p\n",
    "    r = requests.get(urlstring, headers=SCOP_HEADERS, params=params)\n",
    "    r = (json.loads(r.text))\n",
    "    try:\n",
    "        result_text_subj = r['abstracts-retrieval-response']['subject-areas']['subject-area']\n",
    "    except:\n",
    "        result_text_subj = []\n",
    "        error.append({'pmid': p, 'error_message' : r})\n",
    "        print(p, r)\n",
    "        \n",
    "    abbrev_list = []\n",
    "    for i in range(0,(len(result_text_subj))):\n",
    "        abbrev = result_text_subj[i]['@abbrev']\n",
    "        #print(abbrev)\n",
    "        if abbrev in abbrev_list:\n",
    "            pass\n",
    "        else:\n",
    "            abbrev_list.append(abbrev)\n",
    "    result.append({'pmid': p, 'subject_abbrev' : abbrev_list})    \n",
    "    \n",
    "#result_text_subj[i]['$']\n",
    "#result_text_subj[i]['@code'] "
   ]
  },
  {
   "cell_type": "code",
   "execution_count": null,
   "metadata": {
    "collapsed": false
   },
   "outputs": [],
   "source": [
    "with open('pmid_discipline_1_9198.csv', 'w', newline='') as csvfile1:\n",
    "    fieldnames = ['pmid', 'subject_abbrev']\n",
    "    writer = csv.DictWriter(csvfile1, fieldnames=fieldnames)\n",
    "    writer.writerows(result)"
   ]
  },
  {
   "cell_type": "code",
   "execution_count": null,
   "metadata": {
    "collapsed": false
   },
   "outputs": [],
   "source": [
    "with open('pmid_discipline_errors_1_9198.csv', 'w', newline='') as csvfile2:\n",
    "    fieldnames2 = ['pmid', 'error_message']\n",
    "    writer = csv.DictWriter(csvfile2, fieldnames=fieldnames2)\n",
    "    writer.writerows(error)"
   ]
  },
  {
   "cell_type": "code",
   "execution_count": null,
   "metadata": {
    "collapsed": true
   },
   "outputs": [],
   "source": []
  }
 ],
 "metadata": {
  "anaconda-cloud": {},
  "kernelspec": {
   "display_name": "Python [default]",
   "language": "python",
   "name": "python3"
  },
  "language_info": {
   "codemirror_mode": {
    "name": "ipython",
    "version": 3
   },
   "file_extension": ".py",
   "mimetype": "text/x-python",
   "name": "python",
   "nbconvert_exporter": "python",
   "pygments_lexer": "ipython3",
   "version": "3.5.2"
  }
 },
 "nbformat": 4,
 "nbformat_minor": 1
}
