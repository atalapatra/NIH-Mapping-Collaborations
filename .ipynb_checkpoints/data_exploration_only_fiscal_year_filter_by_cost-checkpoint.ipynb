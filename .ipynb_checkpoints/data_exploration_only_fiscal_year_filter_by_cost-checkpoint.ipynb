{
 "cells": [
  {
   "cell_type": "code",
   "execution_count": 1,
   "metadata": {
    "collapsed": true
   },
   "outputs": [],
   "source": [
    "import pandas as pd\n",
    "import sqlite3 as sq\n",
    "from datetime import datetime\n",
    "import numpy as np\n"
   ]
  },
  {
   "cell_type": "code",
   "execution_count": 2,
   "metadata": {
    "collapsed": true
   },
   "outputs": [],
   "source": [
    "pd.options.display.max_columns=999"
   ]
  },
  {
   "cell_type": "code",
   "execution_count": 4,
   "metadata": {
    "collapsed": false
   },
   "outputs": [],
   "source": [
    "con_nih = sq.connect('nih.db')"
   ]
  },
  {
   "cell_type": "code",
   "execution_count": 4,
   "metadata": {
    "collapsed": false
   },
   "outputs": [],
   "source": [
    "sql = '''\n",
    "Select PI_IDS, PI_NAMEs, CORE_PROJECT_NUM, FY, IC_NAME, TOTAL_COST, TOTAL_COST_SUB_PROJECT\n",
    "From projects\n",
    "'''\n",
    "df_projects = pd.read_sql(sql, con_nih)"
   ]
  },
  {
   "cell_type": "markdown",
   "metadata": {},
   "source": [
    "#### Filtered out projects without funding  By Total Cost > 500"
   ]
  },
  {
   "cell_type": "code",
   "execution_count": 5,
   "metadata": {
    "collapsed": false
   },
   "outputs": [],
   "source": [
    "df_projects['TOTAL_COST'] = df_projects[['TOTAL_COST']].where(~df_projects['TOTAL_COST'].isnull(),0)\n",
    "df_projects['TOTAL_COST_SUB_PROJECT'] = df_projects[['TOTAL_COST_SUB_PROJECT']].where(~df_projects['TOTAL_COST_SUB_PROJECT'].isnull(),0)\n",
    "df_projects['TOTAL_COST']  = df_projects['TOTAL_COST'] + df_projects['TOTAL_COST_SUB_PROJECT']\n",
    "df_projects = df_projects[df_projects.TOTAL_COST >= 50000]\n",
    "#only look at 2001-2015\n",
    "before_2001 = df_projects['FY'] < 2001\n",
    "after_2015  = df_projects['FY'] > 2015\n",
    "df_projects = df_projects[(~before_2001) & (~after_2015)]"
   ]
  },
  {
   "cell_type": "markdown",
   "metadata": {
    "collapsed": false
   },
   "source": [
    "#### Retrieve each indiviual pid"
   ]
  },
  {
   "cell_type": "code",
   "execution_count": 6,
   "metadata": {
    "collapsed": false
   },
   "outputs": [
    {
     "name": "stderr",
     "output_type": "stream",
     "text": [
      "/Users/weizheng/anaconda/lib/python3.5/site-packages/pandas/core/generic.py:4485: SettingWithCopyWarning: \n",
      "A value is trying to be set on a copy of a slice from a DataFrame\n",
      "\n",
      "See the caveats in the documentation: http://pandas.pydata.org/pandas-docs/stable/indexing.html#indexing-view-versus-copy\n",
      "  self._update_inplace(new_data)\n"
     ]
    },
    {
     "data": {
      "text/plain": [
       "array(['others', 'nigms'], dtype=object)"
      ]
     },
     "execution_count": 6,
     "metadata": {},
     "output_type": "execute_result"
    }
   ],
   "source": [
    "df_temp = df_projects[['PI_IDS','PI_NAMEs','CORE_PROJECT_NUM', 'FY', 'IC_NAME' ]]\n",
    "df_temp.IC_NAME.where(df_temp.IC_NAME == 'NATIONAL INSTITUTE OF GENERAL MEDICAL SCIENCES', 'others', inplace=True)\n",
    "df_temp.IC_NAME.where(df_temp.IC_NAME == 'others', 'nigms', inplace=True)\n",
    "df_temp.IC_NAME.unique()"
   ]
  },
  {
   "cell_type": "code",
   "execution_count": 7,
   "metadata": {
    "collapsed": false
   },
   "outputs": [],
   "source": [
    "#create pid and name pairs\n",
    "vals = df_temp.values;\n",
    "rows, cols = vals.shape\n",
    "p_ids = []\n",
    "p_names = []\n",
    "p_nums = []\n",
    "fys = []\n",
    "ics = []\n",
    "#grab each pid from the ';' separated strings\n",
    "for i in range(0,rows):\n",
    "    if vals[i, 0] is not None and vals[i, 1] is not None:\n",
    "        ids = vals[i, 0].strip().split(';')\n",
    "        names = vals[i,1].strip().split(';')\n",
    "        ids.pop()\n",
    "        names.pop()\n",
    "        if len(ids) == len(names):\n",
    "            #if there are more than one pid, take primary contact\n",
    "            if len(ids) == 1:\n",
    "                ids = [d.strip() for d in ids ]\n",
    "                names = [n.strip() for n in names]\n",
    "            else:\n",
    "                #ids = [d.replace(' (contact)', '').strip() for d in ids if '(contact)'   in d]\n",
    "                #names = [n.replace(' (contact)', '').strip() for n in names if '(contact)' in n]\n",
    "                ids = [d.replace(' (contact)', '').strip() for d in ids ]\n",
    "                names = [n.replace(' (contact)', '').strip() for n in names]\n",
    "            p_num = vals[i,2]\n",
    "            fy = vals[i,3]\n",
    "            ic = vals[i,4]\n",
    "            p_ids.extend(ids)\n",
    "            p_names.extend(names)\n",
    "            p_nums.extend([str(p_num)] * len(ids))\n",
    "            fys.extend([fy] * len(ids))\n",
    "            ics.extend([ic] * len(ids))\n"
   ]
  },
  {
   "cell_type": "code",
   "execution_count": 8,
   "metadata": {
    "collapsed": false
   },
   "outputs": [],
   "source": [
    "def getUniqDF(arrayList):\n",
    "    #taking equal-length arrays, create  unique combinations\n",
    "    cs = ['_'.join([str(a) for a in A]) for A in zip(*arrayList)]\n",
    "    uniq_comb = list(set(cs))\n",
    "    a_len = len(arrayList)\n",
    "    outputs = [];\n",
    "    for i in range(a_len):\n",
    "        outputs.append([])\n",
    "    #unique combinations\n",
    "    for c in uniq_comb:\n",
    "        s = c.split('_')\n",
    "        for si in range(a_len):\n",
    "            outputs[si].append(s[si])\n",
    "    return(outputs)\n",
    "# pid and names\n",
    "uniq_pids, uniq_names = getUniqDF([p_ids, p_names])\n",
    "df_pid_name = pd.DataFrame({'pid': uniq_pids, 'full_name':uniq_names})\n",
    "\n",
    "# pids and project number\n",
    "pid4num, uniq_prjnum = getUniqDF([p_ids, p_nums])\n",
    "df_pid_prjnum = pd.DataFrame({'pid': pid4num, 'project_key':uniq_prjnum})\n",
    "\n",
    "# pids, fy, and ic\n",
    "pid4fy, fys_support, ics_support = getUniqDF([p_ids, fys, ics])   \n",
    "df_pid_fy_ic = pd.DataFrame({'pid': pid4fy, 'fy':fys_support, 'ic': ics_support })\n",
    "\n"
   ]
  },
  {
   "cell_type": "code",
   "execution_count": 9,
   "metadata": {
    "collapsed": false
   },
   "outputs": [],
   "source": [
    "#calculate years of support \n",
    "df_pid_fy_ic['val'] = 1\n",
    "df_sum = df_pid_fy_ic[['pid', 'ic', 'val']]\n",
    "df_support = df_sum.pivot_table(columns='ic', index='pid', values='val', aggfunc='sum')\n",
    "df_support.columns = ['nigms_years', 'others_years']\n",
    "df_support['nih_years'] =  df_support[['nigms_years', 'others_years']].apply(np.max, axis=1)\n",
    "\n"
   ]
  },
  {
   "cell_type": "code",
   "execution_count": 10,
   "metadata": {
    "collapsed": true
   },
   "outputs": [],
   "source": [
    "df_support.drop('', inplace=True)"
   ]
  },
  {
   "cell_type": "markdown",
   "metadata": {},
   "source": [
    "### NIGMS researchers"
   ]
  },
  {
   "cell_type": "code",
   "execution_count": 11,
   "metadata": {
    "collapsed": true
   },
   "outputs": [],
   "source": [
    "#definition of continually supported\n",
    "nigms_inds = df_support.nigms_years>1\n",
    "nigms_contin_inds = df_support.nigms_years==15\n",
    "nih_contin_inds = (df_support.nih_years==15) & (df_support.nigms_years > 1)\n",
    "df_support['is_nigms_contin'] = 0\n",
    "df_support['is_nih_contin'] = 0\n",
    "df_support.ix[nigms_contin_inds, 'is_nigms_contin' ] = 1\n",
    "df_support.ix[nih_contin_inds, 'is_nih_contin' ] = 1"
   ]
  },
  {
   "cell_type": "code",
   "execution_count": 12,
   "metadata": {
    "collapsed": false
   },
   "outputs": [
    {
     "data": {
      "text/plain": [
       "Index(['10006384', '10008168', '10010745', '10010983', '10011950', '10016300',\n",
       "       '10017611', '10021299', '10028321', '10036621',\n",
       "       ...\n",
       "       '9984179', '9984262', '9985280', '9986822', '9987162', '9991299',\n",
       "       '9996634', '9996881', '9997153', '9997198'],\n",
       "      dtype='object', name='pid', length=11270)"
      ]
     },
     "execution_count": 12,
     "metadata": {},
     "output_type": "execute_result"
    }
   ],
   "source": [
    "df_support[nigms_inds].index"
   ]
  },
  {
   "cell_type": "code",
   "execution_count": 13,
   "metadata": {
    "collapsed": false
   },
   "outputs": [
    {
     "data": {
      "text/plain": [
       "11270"
      ]
     },
     "execution_count": 13,
     "metadata": {},
     "output_type": "execute_result"
    }
   ],
   "source": [
    "len(df_support[nigms_inds]) "
   ]
  },
  {
   "cell_type": "markdown",
   "metadata": {},
   "source": [
    "#### Continually Supported by NIGMS"
   ]
  },
  {
   "cell_type": "code",
   "execution_count": 14,
   "metadata": {
    "collapsed": false
   },
   "outputs": [
    {
     "data": {
      "text/plain": [
       "612"
      ]
     },
     "execution_count": 14,
     "metadata": {},
     "output_type": "execute_result"
    }
   ],
   "source": [
    "len(df_support[nigms_contin_inds]) "
   ]
  },
  {
   "cell_type": "markdown",
   "metadata": {},
   "source": [
    "#### Researchers who were continually supported by NIH"
   ]
  },
  {
   "cell_type": "code",
   "execution_count": 15,
   "metadata": {
    "collapsed": false
   },
   "outputs": [
    {
     "data": {
      "text/plain": [
       "1213"
      ]
     },
     "execution_count": 15,
     "metadata": {},
     "output_type": "execute_result"
    }
   ],
   "source": [
    "len(df_support[nih_contin_inds])"
   ]
  },
  {
   "cell_type": "code",
   "execution_count": 20,
   "metadata": {
    "collapsed": false
   },
   "outputs": [
    {
     "data": {
      "text/plain": [
       "Index(['1840039', '1840203', '1852587', '1857677', '1857694', '1857785',\n",
       "       '1857787', '1857799', '1857949', '1857999',\n",
       "       ...\n",
       "       '8233471', '8270374', '8288519', '8328629', '8357384', '8372282',\n",
       "       '8404502', '8420343', '8441362', '9574352'],\n",
       "      dtype='object', name='pid', length=1213)"
      ]
     },
     "execution_count": 20,
     "metadata": {},
     "output_type": "execute_result"
    }
   ],
   "source": [
    "df_support[nih_contin_inds].index"
   ]
  },
  {
   "cell_type": "code",
   "execution_count": 21,
   "metadata": {
    "collapsed": false
   },
   "outputs": [
    {
     "data": {
      "text/html": [
       "<div>\n",
       "<table border=\"1\" class=\"dataframe\">\n",
       "  <thead>\n",
       "    <tr style=\"text-align: right;\">\n",
       "      <th></th>\n",
       "      <th>nigms_years</th>\n",
       "      <th>others_years</th>\n",
       "      <th>nih_years</th>\n",
       "      <th>is_nigms_contin</th>\n",
       "      <th>is_nih_contin</th>\n",
       "    </tr>\n",
       "    <tr>\n",
       "      <th>pid</th>\n",
       "      <th></th>\n",
       "      <th></th>\n",
       "      <th></th>\n",
       "      <th></th>\n",
       "      <th></th>\n",
       "    </tr>\n",
       "  </thead>\n",
       "  <tbody>\n",
       "    <tr>\n",
       "      <th>10000282</th>\n",
       "      <td>NaN</td>\n",
       "      <td>3.0</td>\n",
       "      <td>3.0</td>\n",
       "      <td>0</td>\n",
       "      <td>0</td>\n",
       "    </tr>\n",
       "  </tbody>\n",
       "</table>\n",
       "</div>"
      ],
      "text/plain": [
       "          nigms_years  others_years  nih_years  is_nigms_contin  is_nih_contin\n",
       "pid                                                                           \n",
       "10000282          NaN           3.0        3.0                0              0"
      ]
     },
     "execution_count": 21,
     "metadata": {},
     "output_type": "execute_result"
    }
   ],
   "source": [
    "df_support.head(1)"
   ]
  },
  {
   "cell_type": "markdown",
   "metadata": {},
   "source": [
    "### Create Author Table"
   ]
  },
  {
   "cell_type": "code",
   "execution_count": 38,
   "metadata": {
    "collapsed": true
   },
   "outputs": [],
   "source": [
    "df_pid_name.drop_duplicates(['pid'], inplace=True)\n",
    "df_pid_name = df_pid_name[~df_pid_name.pid.isnull()]\n",
    "df_pid_name = df_pid_name[df_pid_name.full_name != 'WEDEN, MARGARET']"
   ]
  },
  {
   "cell_type": "code",
   "execution_count": 39,
   "metadata": {
    "collapsed": false
   },
   "outputs": [],
   "source": [
    "temp_df = df_pid_name.copy()\n",
    "temp_df['pi_key'] = 'nih'+'_'+ temp_df['pid']\n",
    "temp_df['full_name'] = temp_df['full_name'].str.lower()\n",
    "temp_df['last_name'] = temp_df['full_name'].str.split(',').str.get(0)\n",
    "temp_df['f_m_name'] = temp_df['full_name'].str.split(',').str.get(1)\n",
    "temp_df['f_m_name'] = temp_df['f_m_name'].str.strip()\n",
    "temp_df['first_name'] = temp_df['f_m_name'].str.split(' ').str.get(0)\n",
    "temp_df['middle_name'] = temp_df['f_m_name'].str.split(' ').str.get(1)\n",
    "temp_df['last_initial'] = temp_df['last_name'].str[0]\n",
    "temp_df['first_initial'] = temp_df['first_name'].str[0]\n",
    "temp_df['middle_initial'] = temp_df['middle_name'].str[0]\n",
    "\n"
   ]
  },
  {
   "cell_type": "code",
   "execution_count": 40,
   "metadata": {
    "collapsed": false
   },
   "outputs": [
    {
     "data": {
      "text/plain": [
       "(119644, 10)"
      ]
     },
     "execution_count": 40,
     "metadata": {},
     "output_type": "execute_result"
    }
   ],
   "source": [
    "temp_df.shape"
   ]
  },
  {
   "cell_type": "code",
   "execution_count": 41,
   "metadata": {
    "collapsed": true
   },
   "outputs": [],
   "source": [
    "temp_df = temp_df.merge(df_support[['is_nigms_contin', 'is_nih_contin']], left_on='pid', right_index=True)\n",
    "temp_df.drop(['f_m_name', 'pid'], axis=1, inplace=True)"
   ]
  },
  {
   "cell_type": "code",
   "execution_count": 42,
   "metadata": {
    "collapsed": false
   },
   "outputs": [
    {
     "data": {
      "text/plain": [
       "(119643,)"
      ]
     },
     "execution_count": 42,
     "metadata": {},
     "output_type": "execute_result"
    }
   ],
   "source": [
    "temp_df.pi_key.unique().shape"
   ]
  },
  {
   "cell_type": "code",
   "execution_count": 43,
   "metadata": {
    "collapsed": false
   },
   "outputs": [
    {
     "data": {
      "text/html": [
       "<div>\n",
       "<table border=\"1\" class=\"dataframe\">\n",
       "  <thead>\n",
       "    <tr style=\"text-align: right;\">\n",
       "      <th></th>\n",
       "      <th>full_name</th>\n",
       "      <th>pi_key</th>\n",
       "      <th>last_name</th>\n",
       "      <th>first_name</th>\n",
       "      <th>middle_name</th>\n",
       "      <th>last_initial</th>\n",
       "      <th>first_initial</th>\n",
       "      <th>middle_initial</th>\n",
       "      <th>is_nigms_contin</th>\n",
       "      <th>is_nih_contin</th>\n",
       "    </tr>\n",
       "  </thead>\n",
       "  <tbody>\n",
       "    <tr>\n",
       "      <th>0</th>\n",
       "      <td>fiszdon, joanna m.</td>\n",
       "      <td>nih_7329263</td>\n",
       "      <td>fiszdon</td>\n",
       "      <td>joanna</td>\n",
       "      <td>m.</td>\n",
       "      <td>f</td>\n",
       "      <td>j</td>\n",
       "      <td>m</td>\n",
       "      <td>0</td>\n",
       "      <td>0</td>\n",
       "    </tr>\n",
       "    <tr>\n",
       "      <th>1</th>\n",
       "      <td>donahue, thomas f</td>\n",
       "      <td>nih_1887829</td>\n",
       "      <td>donahue</td>\n",
       "      <td>thomas</td>\n",
       "      <td>f</td>\n",
       "      <td>d</td>\n",
       "      <td>t</td>\n",
       "      <td>f</td>\n",
       "      <td>0</td>\n",
       "      <td>0</td>\n",
       "    </tr>\n",
       "    <tr>\n",
       "      <th>2</th>\n",
       "      <td>kebede, amha</td>\n",
       "      <td>nih_11807747</td>\n",
       "      <td>kebede</td>\n",
       "      <td>amha</td>\n",
       "      <td>NaN</td>\n",
       "      <td>k</td>\n",
       "      <td>a</td>\n",
       "      <td>NaN</td>\n",
       "      <td>0</td>\n",
       "      <td>0</td>\n",
       "    </tr>\n",
       "    <tr>\n",
       "      <th>3</th>\n",
       "      <td>baker, harriet d.</td>\n",
       "      <td>nih_1889052</td>\n",
       "      <td>baker</td>\n",
       "      <td>harriet</td>\n",
       "      <td>d.</td>\n",
       "      <td>b</td>\n",
       "      <td>h</td>\n",
       "      <td>d</td>\n",
       "      <td>0</td>\n",
       "      <td>0</td>\n",
       "    </tr>\n",
       "    <tr>\n",
       "      <th>4</th>\n",
       "      <td>rohsenow, damaris j.</td>\n",
       "      <td>nih_1885256</td>\n",
       "      <td>rohsenow</td>\n",
       "      <td>damaris</td>\n",
       "      <td>j.</td>\n",
       "      <td>r</td>\n",
       "      <td>d</td>\n",
       "      <td>j</td>\n",
       "      <td>0</td>\n",
       "      <td>0</td>\n",
       "    </tr>\n",
       "  </tbody>\n",
       "</table>\n",
       "</div>"
      ],
      "text/plain": [
       "              full_name        pi_key last_name first_name middle_name  \\\n",
       "0    fiszdon, joanna m.   nih_7329263   fiszdon     joanna          m.   \n",
       "1     donahue, thomas f   nih_1887829   donahue     thomas           f   \n",
       "2          kebede, amha  nih_11807747    kebede       amha         NaN   \n",
       "3     baker, harriet d.   nih_1889052     baker    harriet          d.   \n",
       "4  rohsenow, damaris j.   nih_1885256  rohsenow    damaris          j.   \n",
       "\n",
       "  last_initial first_initial middle_initial  is_nigms_contin  is_nih_contin  \n",
       "0            f             j              m                0              0  \n",
       "1            d             t              f                0              0  \n",
       "2            k             a            NaN                0              0  \n",
       "3            b             h              d                0              0  \n",
       "4            r             d              j                0              0  "
      ]
     },
     "execution_count": 43,
     "metadata": {},
     "output_type": "execute_result"
    }
   ],
   "source": [
    "temp_df.head(5)"
   ]
  },
  {
   "cell_type": "code",
   "execution_count": 27,
   "metadata": {
    "collapsed": false
   },
   "outputs": [],
   "source": [
    "#create an author table\n",
    "con_analysis_db = sq.connect('nih_analyses.db')"
   ]
  },
  {
   "cell_type": "code",
   "execution_count": 28,
   "metadata": {
    "collapsed": false
   },
   "outputs": [
    {
     "data": {
      "text/plain": [
       "<sqlite3.Cursor at 0x12f233030>"
      ]
     },
     "execution_count": 28,
     "metadata": {},
     "output_type": "execute_result"
    }
   ],
   "source": [
    "temp_df.to_sql('researcher',con_analysis_db, if_exists='replace')\n",
    "con_analysis_db.execute('create unique index pi_key_index on researcher(pi_key);')"
   ]
  },
  {
   "cell_type": "markdown",
   "metadata": {},
   "source": [
    "### Create Author and Project Link table"
   ]
  },
  {
   "cell_type": "code",
   "execution_count": 29,
   "metadata": {
    "collapsed": false
   },
   "outputs": [
    {
     "data": {
      "text/plain": [
       "<sqlite3.Cursor at 0x12f1b7f80>"
      ]
     },
     "execution_count": 29,
     "metadata": {},
     "output_type": "execute_result"
    }
   ],
   "source": [
    "temp_df = df_pid_prjnum.copy()\n",
    "temp_df['pi_key'] = 'nih' + '_' + temp_df['pid']\n",
    "temp_df.drop('pid', axis=1, inplace=True)\n",
    "temp_df.to_sql('res_prj',con_analysis_db, if_exists='replace')\n",
    "con_analysis_db.execute('create index pi_key_index_res_prj on res_prj(pi_key);')\n",
    "con_analysis_db.execute('create index prjnum_index_res_prj on res_prj(project_key);')"
   ]
  },
  {
   "cell_type": "markdown",
   "metadata": {},
   "source": [
    "### Create Project and Publication Link table"
   ]
  },
  {
   "cell_type": "code",
   "execution_count": 34,
   "metadata": {
    "collapsed": false
   },
   "outputs": [],
   "source": [
    "sql = '''\n",
    "Select * \n",
    "From link\n",
    "'''\n",
    "\n",
    "df_prj_pub_link = pd.read_sql(sql, con_nih)"
   ]
  },
  {
   "cell_type": "code",
   "execution_count": 35,
   "metadata": {
    "collapsed": false
   },
   "outputs": [],
   "source": [
    "df_prj_pub_link.columns = ['publication_key' , 'project_key']"
   ]
  },
  {
   "cell_type": "code",
   "execution_count": 36,
   "metadata": {
    "collapsed": false
   },
   "outputs": [
    {
     "data": {
      "text/plain": [
       "<sqlite3.Cursor at 0x12f061dc0>"
      ]
     },
     "execution_count": 36,
     "metadata": {},
     "output_type": "execute_result"
    }
   ],
   "source": [
    "df_prj_pub_link.to_sql('prj_pub',con_analysis_db, if_exists='replace')\n",
    "con_analysis_db.execute('create index prjnum_index_prj_pub on prj_pub(project_key);')\n",
    "con_analysis_db.execute('create index pubkey_index_prj_pub on prj_pub(publication_key);')"
   ]
  },
  {
   "cell_type": "code",
   "execution_count": null,
   "metadata": {
    "collapsed": true
   },
   "outputs": [],
   "source": []
  }
 ],
 "metadata": {
  "anaconda-cloud": {},
  "kernelspec": {
   "display_name": "Python [conda root]",
   "language": "python",
   "name": "conda-root-py"
  },
  "language_info": {
   "codemirror_mode": {
    "name": "ipython",
    "version": 3
   },
   "file_extension": ".py",
   "mimetype": "text/x-python",
   "name": "python",
   "nbconvert_exporter": "python",
   "pygments_lexer": "ipython3",
   "version": "3.5.2"
  }
 },
 "nbformat": 4,
 "nbformat_minor": 1
}
